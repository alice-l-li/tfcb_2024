{
 "cells": [
  {
   "attachments": {},
   "cell_type": "markdown",
   "metadata": {},
   "source": [
    "# __Homework 4:__ Practical analysis with BioPython"
   ]
  },
  {
   "attachments": {},
   "cell_type": "markdown",
   "metadata": {},
   "source": [
    "For the homework, you are going to extend the code from the analysis of our FASTQ file in lectures 8 and 9.\n",
    "Recall that the FASTQ file contains reads from a real sequencing run of influenza virus HA and NA genes.\n",
    "\n",
    "---\n",
    "The __actual sequences__ are as follows:\n",
    "\n",
    "    5'-[end of HA]-AGGCGGCCGC-[16 X N barcode]-3'\n",
    "or \n",
    "\n",
    "    5'-[end of NA]-AGGCGGCCGC-[16 X N barcode]-3'\n",
    "---\n",
    "\n",
    "\n",
    "__The end of NA is__ `...CACGATAGATAAATAATAGTGCACCAT`\n",
    "    \n",
    "__The end of HA is__ `...CCGGATTTGCATATAATGATGCACCAT`\n",
    "\n",
    "---    \n",
    "\n",
    "    \n",
    "The __sequencing reads__ from the reverse end of the molecules (in 5'>3' orientation), so the sequencing reads are as follows:\n",
    "\n",
    "    5'-[reverse complement of 16 X N barcode]-GCGGCCGCCT-[reverse complement of the end of HA]-3'\n",
    "or\n",
    "\n",
    "    5'-[reverse complement of 16 X N barcode]-GCGGCCGCCT-[reverse complement of the end of NA]-3'\n",
    "\n",
    "---   \n",
    "    \n",
    "The reads can originate from **either** HA or NA, and that will be distinguished by the most 3' end of the read.\n",
    "But in our example exercise in class, we did not distinguish among reads matching to HA and NA, as we didn't even look far enough into the read to tell the identity.\n",
    "\n",
    "For the homework, your goal is to write code that extends the material from lectures 8 and 9 to also distinguish between HA and NA.\n",
    "This homework can be completed almost entirely by re-using code from lecture 9. You will need to set up your analysis to do the following:\n",
    " 1. Get the reverse complement of each read.\n",
    " 2. Determine if it matches the expected pattern for HA and NA, and if so which one.\n",
    " 3. If it matches, extract the barcode and add it to a dictionary to keep track of counts.\n",
    " 4. Determine the number and distribution of barcodes for HA and NA separately.\n",
    "\n",
    "Please include code to address each of the following questions. Please include code comments to explain what your code is attempting to accomplish. Don't forget to include references to the sources you used to obtain your answer, including your classmates (if you are working in groups).  "
   ]
  },
  {
   "cell_type": "markdown",
   "metadata": {},
   "source": [
    "1. How many reads map to HA, and how many reads map to NA?"
   ]
  },
  {
   "cell_type": "code",
   "execution_count": 41,
   "metadata": {},
   "outputs": [
    {
     "name": "stdout",
     "output_type": "stream",
     "text": [
      "Number of reads mapping to HA: 5249\n",
      "Number of reads mapping to NA: 3909\n"
     ]
    }
   ],
   "source": [
    "# import needed modules\n",
    "import re\n",
    "import Bio.SeqIO\n",
    "import Bio.Seq\n",
    "\n",
    "# define a function to identify and return barcode sequence for a specified gene if matched or invalid\n",
    "def read_barcode(seqread, bclen, gene_end, upstream='AGGCGGCCGC'):\n",
    "    \"\"\"Identify valid or invalid barcode with specified gene and known upstream sequence.\n",
    "    \n",
    "    Parameters\n",
    "    ----------\n",
    "    seqread : Seq object\n",
    "        Nucleotide sequence read matching UPSTREAM-BARCODE in reverse orientation.\n",
    "    bclen : int\n",
    "        Length of barcode.\n",
    "    gene_end : str\n",
    "        Sequence corresponding to end of gene of interest.\n",
    "    upstream: str\n",
    "        Sequence upstream of the barcode.\n",
    "        \n",
    "    Returns\n",
    "    -------\n",
    "    str or `'invalid'` or None\n",
    "        Sequence of the barcode in the forward orientation, 'invalid' if invalid barcode, or `None` if no match to expected barcoded sequence.\n",
    "\n",
    "        \n",
    "    \"\"\"\n",
    "    seq_upper_rev = str(seqread.upper().reverse_complement()) #convert Seq to str\n",
    "\n",
    "    gene_search = re.compile(gene_end) #define search str for gene\n",
    "    gene_match = gene_search.search(seq_upper_rev) #search Seq str for specified gene\n",
    "\n",
    "    if gene_match:\n",
    "        barcode_search = re.compile(gene_end + upstream + '(?P<barcode>[ATCG]{' +str(bclen)+ '})') #define search str for full sequencing read\n",
    "        barcode_match = barcode_search.search(seq_upper_rev) #search Seq str for full read\n",
    "        if barcode_match:\n",
    "            barcode_seq = barcode_match.group('barcode') #pull barcode sequence as a str from Seq str\n",
    "            return barcode_seq #return barcode sequence\n",
    "        else:\n",
    "            return \"invalid\" #return message if gene matches but no matching barcode\n",
    "    else:\n",
    "        return None #return `None` if no match to gene\n",
    "\n",
    "\n",
    "# read sequencing data in the fastq file and convert into a list\n",
    "reads = Bio.SeqIO.parse('barcodes_R1.fastq', format='fastq')\n",
    "seqreads = list(reads)\n",
    "\n",
    "# create and populate list with sequences isolated from sequencing data\n",
    "flu_seqs = []\n",
    "for seqrecord in seqreads:\n",
    "    flu_seqs.append(seqrecord.seq) #get Seq object from seqrecord and add to flu_seqs list\n",
    "\n",
    "# assign variables to store ends of the HA and NA gene sequences in forward orientation\n",
    "HA_end = 'CCGGATTTGCATATAATGATGCACCAT'\n",
    "NA_end = 'CACGATAGATAAATAATAGTGCACCAT'\n",
    "\n",
    "# CREATE DICT TO TRACK VALID AND INVALID BARCODES AND COUNTS FOR HA AND NA GENES\n",
    "HA_barcode_counts = {} #create empty dict to track valid HA barcodes and counts\n",
    "HA_num_reads = 0 #use to count total number of valid reads for HA gene\n",
    "HA_invalid = 0 #use to track number of invalid reads for HA gene\n",
    "\n",
    "NA_barcode_counts = {} #create empty dict to track valid NA barcodes and counts\n",
    "NA_num_reads = 0 #use to count total number of valid reads for NA gene\n",
    "NA_invalid = 0 #use to track number of invalid reads for NA gene\n",
    "\n",
    "## track valid barcodes and count invalid reads for HA and NA genes\n",
    "for seq in flu_seqs: #iterate along Seq sequences in flu_seqs list\n",
    "    HA_barcode = read_barcode(seq, bclen=16, gene_end=HA_end) #identify barcode associated with HA sequence\n",
    "    if HA_barcode: #if valid HA barcode\n",
    "        if HA_barcode == \"invalid\":\n",
    "            HA_invalid += 1 #add count to track total number of invalid reads mapped to HA\n",
    "        elif HA_barcode in HA_barcode_counts:\n",
    "            HA_barcode_counts[HA_barcode] += 1 #add count to existing dict value\n",
    "            HA_num_reads += 1 #add count to track total number of reads mapped to HA\n",
    "        else:\n",
    "            HA_barcode_counts[HA_barcode] = 1 #create new dict key\n",
    "            HA_num_reads += 1\n",
    "    \n",
    "    NA_barcode = read_barcode(seq, bclen=16, gene_end=NA_end) #identify barcode associated with NA sequence\n",
    "    if NA_barcode:\n",
    "        if NA_barcode == \"invalid\":\n",
    "            NA_invalid += 1 #add count to track total number of invalid reads mapped to NA\n",
    "        elif NA_barcode in NA_barcode_counts:\n",
    "            NA_barcode_counts[NA_barcode] += 1 #add count to existing dict value\n",
    "            NA_num_reads += 1 #add count to track total number of reads mapped to NA\n",
    "        else:\n",
    "            NA_barcode_counts[NA_barcode] = 1 #create new dict key\n",
    "            NA_num_reads += 1\n",
    "\n",
    "# print final valid read counts for HA and NA genes\n",
    "print(\"Number of reads mapping to HA: \" + str(HA_num_reads))\n",
    "print(\"Number of reads mapping to NA: \" + str(NA_num_reads))\n"
   ]
  },
  {
   "attachments": {},
   "cell_type": "markdown",
   "metadata": {},
   "source": [
    "2. How many HA sequences did not have a valid barcode? Also anwer the same question for NA."
   ]
  },
  {
   "cell_type": "code",
   "execution_count": 44,
   "metadata": {},
   "outputs": [
    {
     "name": "stdout",
     "output_type": "stream",
     "text": [
      "Number of HA sequences with invalid barcodes: 160\n",
      "Number of NA sequences with invalid barcodes: 213\n"
     ]
    }
   ],
   "source": [
    "# print counts of invalid barcodes as tracked from previous code cell\n",
    "print('Number of HA sequences with invalid barcodes: ' + str(HA_invalid))\n",
    "print('Number of NA sequences with invalid barcodes: ' + str(NA_invalid))"
   ]
  },
  {
   "attachments": {},
   "cell_type": "markdown",
   "metadata": {},
   "source": [
    "3. What is the HA barcode with the most counts (and how many counts)? Also answer the same question for NA.\n",
    "\n",
    "    _Hint: you will need to find the key associated with the maximum value in your dictionary. There are many ways to do this._"
   ]
  },
  {
   "cell_type": "code",
   "execution_count": 46,
   "metadata": {},
   "outputs": [
    {
     "name": "stdout",
     "output_type": "stream",
     "text": [
      "The HA barcode 'CCCGACCCGACATTAA' has the most counts at 155.\n",
      "The NA barcode 'ACCAGTTCTCCCCGGG' has the most counts at 152.\n"
     ]
    }
   ],
   "source": [
    "HA_max_counts = 0 #use to track maximum counts from HA_barcode_counts dict\n",
    "HA_max_barcode = '' #use to track barcode with maximum counts from HA_barcode_counts dict\n",
    "\n",
    "for HA_bc in HA_barcode_counts:\n",
    "    if HA_barcode_counts[HA_bc] > HA_max_counts: #compare HA_bc count to existing maximum value\n",
    "        HA_max_barcode = HA_bc #update barcode associated with max value\n",
    "        HA_max_counts = HA_barcode_counts[HA_max_barcode] #update max value\n",
    "\n",
    "# repeat above process to find NA barcode with most counts\n",
    "NA_max_counts = 0 #use to track maximum counts from NA_barcode_counts dict\n",
    "NA_max_barcode = '' #use to track barcode with maximum counts from NA_barcode_counts dict\n",
    "\n",
    "for NA_bc in NA_barcode_counts:\n",
    "    if NA_barcode_counts[NA_bc] > NA_max_counts: #compare NA_bc count to existing maximum value\n",
    "        NA_max_barcode = NA_bc #update barcode associated with max value\n",
    "        NA_max_counts = NA_barcode_counts[NA_max_barcode] #update max value\n",
    "\n",
    "# print final \n",
    "print(\"The HA barcode '\" + HA_max_barcode + \"' has the most counts at \" + str(HA_max_counts) + \".\")\n",
    "print(\"The NA barcode '\" + NA_max_barcode + \"' has the most counts at \" + str(NA_max_counts) + \".\")"
   ]
  }
 ],
 "metadata": {
  "kernelspec": {
   "display_name": "base",
   "language": "python",
   "name": "python3"
  },
  "language_info": {
   "codemirror_mode": {
    "name": "ipython",
    "version": 3
   },
   "file_extension": ".py",
   "mimetype": "text/x-python",
   "name": "python",
   "nbconvert_exporter": "python",
   "pygments_lexer": "ipython3",
   "version": "3.9.12"
  },
  "toc": {
   "nav_menu": {},
   "number_sections": false,
   "sideBar": true,
   "skip_h1_title": false,
   "toc_cell": false,
   "toc_position": {
    "height": "623.8px",
    "left": "0px",
    "right": "829.6px",
    "top": "33.2px",
    "width": "322.4px"
   },
   "toc_section_display": "block",
   "toc_window_display": true
  }
 },
 "nbformat": 4,
 "nbformat_minor": 2
}
